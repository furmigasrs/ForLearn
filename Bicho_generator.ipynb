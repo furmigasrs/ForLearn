{
 "cells": [
  {
   "cell_type": "code",
   "execution_count": 1,
   "metadata": {},
   "outputs": [
    {
     "name": "stdout",
     "output_type": "stream",
     "text": [
      "Informe um numero de 0 a 3, conforme leganda abaixo. \n",
      "0-Sair\n",
      "1-Grupo ou dezena\n",
      "2-Centena\n",
      "3-Milhar\n",
      "informe: 1\n",
      "\n",
      "\n",
      "Seu bixo é:Pavão\n",
      "Duque:Camelo e Cobra \n",
      "Seu terno é:Touro, Urso e Cabra\n",
      "Sua dezena é:47\n",
      "\n",
      "\n",
      "Informe um numero de 0 a 3, conforme leganda abaixo. \n",
      "0-Sair\n",
      "1-Grupo ou dezena\n",
      "2-Centena\n",
      "3-Milhar\n",
      "informe: 0\n"
     ]
    }
   ],
   "source": [
    "from random import choice\n",
    "\n",
    "funcao = None\n",
    "bichos= ['Avestruz', 'Águia', 'Burro', 'Borboleta', 'Cachorro', 'Cabra', 'Carneiro', 'Camelo'\n",
    "        ,'Cobra', 'Coelho', 'Cavalo', 'Elefante', 'Galo', 'Gato', 'Jacaré', 'Leão', 'Macaco',\n",
    "         'Porco', 'Pavão', 'Peru', 'Touro', 'Tigre', 'Urso', ' Veado', 'Vaca']\n",
    "\n",
    "while funcao !='0':\n",
    "    funcao = input('Informe um numero de 0 a 3, conforme leganda abaixo. '\n",
    "               '\\n0-Sair\\n1-Grupo ou dezena\\n2-Centena\\n3-Milhar\\ninforme: ')\n",
    "\n",
    "    if funcao == '1':\n",
    "        numero,dezena = choice(range(25)),choice(range(100))\n",
    "        print(f'\\n\\nSeu bixo é:{bichos[numero]}\\nDuque:{bichos[choice(range(25))]} e '\n",
    "              f'{bichos[choice(range(25))]} \\nSeu terno é:{bichos[choice(range(25))]},'\n",
    "              f' {bichos[choice(range(25))]} e {bichos[choice(range(25))]}'\n",
    "              f'\\nSua dezena é:{dezena}\\n\\n')\n",
    "    elif funcao == '2':\n",
    "        print(f'\\n\\nSua centena é:{choice(range(10))}{choice(range(10))}{choice(range(10))}\\n\\n')\n",
    "    elif funcao == '3':\n",
    "        centena = choice(range(100, 1000))\n",
    "        print(f'\\n\\nSeu milhar é:{choice(range(10))}{choice(range(10))}{choice(range(10))}'\n",
    "              f'{choice(range(10))}\\n\\n')"
   ]
  },
  {
   "cell_type": "code",
   "execution_count": null,
   "metadata": {},
   "outputs": [],
   "source": []
  }
 ],
 "metadata": {
  "kernelspec": {
   "display_name": "Python 3",
   "language": "python",
   "name": "python3"
  },
  "language_info": {
   "codemirror_mode": {
    "name": "ipython",
    "version": 3
   },
   "file_extension": ".py",
   "mimetype": "text/x-python",
   "name": "python",
   "nbconvert_exporter": "python",
   "pygments_lexer": "ipython3",
   "version": "3.6.11"
  },
  "widgets": {
   "application/vnd.jupyter.widget-state+json": {
    "state": {},
    "version_major": 2,
    "version_minor": 0
   }
  }
 },
 "nbformat": 4,
 "nbformat_minor": 4
}
